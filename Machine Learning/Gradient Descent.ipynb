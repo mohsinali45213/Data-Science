{
 "cells": [
  {
   "cell_type": "code",
   "execution_count": 25,
   "id": "65bdb373",
   "metadata": {},
   "outputs": [],
   "source": [
    "import pandas as pd\n",
    "import numpy as np\n",
    "from sklearn.model_selection import train_test_split\n",
    "from sklearn.datasets import load_diabetes"
   ]
  },
  {
   "cell_type": "markdown",
   "id": "06c310b1",
   "metadata": {},
   "source": [
    "<code>Gradient Descent For 2 Columns</code>"
   ]
  },
  {
   "cell_type": "code",
   "execution_count": 31,
   "id": "93b85499",
   "metadata": {},
   "outputs": [],
   "source": [
    "\n",
    "df = pd.read_csv('./Data/simple_linear_regression_data.csv')\n",
    "X = df.iloc[:, 1].values.reshape(-1, 1)\n",
    "y = df.iloc[:, 0].values\n",
    "X_train, X_test, y_train, y_test = train_test_split(X, y, test_size=0.2, random_state=42)"
   ]
  },
  {
   "cell_type": "code",
   "execution_count": 32,
   "id": "dc51c454",
   "metadata": {},
   "outputs": [
    {
     "name": "stdout",
     "output_type": "stream",
     "text": [
      "-6.691339362005465e+87 -8.19343792344914e+86\n"
     ]
    }
   ],
   "source": [
    "class GDRegressor():\n",
    "  def __init__(self,learning_score,epochs):\n",
    "    self.m=0\n",
    "    self.b=0\n",
    "    self.lr=learning_score\n",
    "    self.epochs=epochs\n",
    "  def fit(self,X_train,y_train):\n",
    "    for i in range(self.epochs):\n",
    "      loss_slope_b = -2 * np.sum(y_train - self.m*X_train.ravel() - self.b)\n",
    "      loss_slope_m = -2 * np.sum((y_train - self.m*X_train.ravel() - self.b)*X_train.ravel())\n",
    "      self.b = self.b -(self.lr*loss_slope_b)\n",
    "      self.m = self.m -(self.lr*loss_slope_m)\n",
    "    print(self.m,self.b)\n",
    "  def predict(self,X_test):\n",
    "    return self.m*X_test + self.b\n",
    "  \n",
    "gd = GDRegressor(0.01,50)\n",
    "gd.fit(X_train,y_train)"
   ]
  },
  {
   "cell_type": "code",
   "execution_count": 33,
   "id": "5e3e736d",
   "metadata": {},
   "outputs": [
    {
     "data": {
      "text/plain": [
       "array([[-4.55174907e+88],\n",
       "       [-4.51160104e+88],\n",
       "       [-4.27071282e+88],\n",
       "       [-4.66550184e+88],\n",
       "       [-4.87293336e+88],\n",
       "       [-4.59189711e+88],\n",
       "       [-5.42162319e+88],\n",
       "       [-4.63204515e+88],\n",
       "       [-6.53238552e+88],\n",
       "       [-6.32495400e+88],\n",
       "       [-6.61268160e+88]])"
      ]
     },
     "execution_count": 33,
     "metadata": {},
     "output_type": "execute_result"
    }
   ],
   "source": [
    "gd.predict(X_test)"
   ]
  },
  {
   "cell_type": "markdown",
   "id": "30891b7e",
   "metadata": {},
   "source": [
    "<code>Gradient Descent For n Columns</code>"
   ]
  },
  {
   "cell_type": "code",
   "execution_count": 34,
   "id": "0658cae1",
   "metadata": {},
   "outputs": [],
   "source": [
    "\n",
    "X,y = load_diabetes(return_X_y=True)\n",
    "X_train,X_test,y_train,y_test = train_test_split(X,y,test_size=0.2,random_state=2)"
   ]
  },
  {
   "cell_type": "code",
   "execution_count": 63,
   "id": "5c2d6c0c",
   "metadata": {},
   "outputs": [
    {
     "name": "stdout",
     "output_type": "stream",
     "text": [
      "[ 37.54896555   3.89802826 110.36993499  84.48068765  32.67551655\n",
      "  23.08871469 -66.03076787  67.82427833 107.10874688  62.20956552] 151.21758722129348\n"
     ]
    }
   ],
   "source": [
    "class GDRegressor():\n",
    "  def __init__(self,learning_score,epochs):\n",
    "    self.coef_ = None\n",
    "    self.intercept_ = None\n",
    "    self.lr = learning_score\n",
    "    self.epochs = epochs\n",
    "\n",
    "  def fit(self,X_train,y_train):\n",
    "    self.intercept_ = 0\n",
    "    self.coef_ = np.ones(X_train.shape[1])\n",
    "\n",
    "    for i in range(self.epochs):\n",
    "      y_hat = self.intercept_ + np.dot(X_train,self.coef_)\n",
    "      intercept_der = -2 * np.mean(y_train - y_hat)\n",
    "      self.intercept_ = self.intercept_ - (self.lr * intercept_der)\n",
    "\n",
    "      coef_der = -2 * np.dot((y_train - y_hat),X_train)/X_train.shape[0]\n",
    "      self.coef_ = self.coef_ - (self.lr * coef_der)\n",
    "\n",
    "    print(self.coef_,self.intercept_)\n",
    "  \n",
    "  def predict(self,X_test):\n",
    "    return np.dot(X_test,self.coef_) + self.intercept_\n",
    "  \n",
    "\n",
    "\n",
    "gd = GDRegressor(0.3,100)\n",
    "gd.fit(X_train,y_train)"
   ]
  },
  {
   "cell_type": "code",
   "execution_count": 64,
   "id": "8caaa9ca",
   "metadata": {},
   "outputs": [],
   "source": [
    "y_pred=gd.predict(X_test)"
   ]
  },
  {
   "cell_type": "code",
   "execution_count": 65,
   "id": "12a4da39",
   "metadata": {},
   "outputs": [
    {
     "data": {
      "text/plain": [
       "0.2448591851218348"
      ]
     },
     "execution_count": 65,
     "metadata": {},
     "output_type": "execute_result"
    }
   ],
   "source": [
    "from sklearn.metrics import r2_score\n",
    "r2_score(y_test,y_pred)"
   ]
  },
  {
   "cell_type": "code",
   "execution_count": null,
   "id": "e4fb4366",
   "metadata": {},
   "outputs": [],
   "source": []
  }
 ],
 "metadata": {
  "kernelspec": {
   "display_name": "Python 3",
   "language": "python",
   "name": "python3"
  },
  "language_info": {
   "codemirror_mode": {
    "name": "ipython",
    "version": 3
   },
   "file_extension": ".py",
   "mimetype": "text/x-python",
   "name": "python",
   "nbconvert_exporter": "python",
   "pygments_lexer": "ipython3",
   "version": "3.13.1"
  }
 },
 "nbformat": 4,
 "nbformat_minor": 5
}
