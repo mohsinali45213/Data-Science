{
 "cells": [
  {
   "cell_type": "code",
   "execution_count": 2,
   "id": "518ad65c",
   "metadata": {},
   "outputs": [],
   "source": [
    "import pandas as pd\n",
    "import numpy as np\n",
    "from sklearn.model_selection import train_test_split"
   ]
  },
  {
   "cell_type": "markdown",
   "id": "39111310",
   "metadata": {},
   "source": [
    "<code>Simplest Linear Regression Implementation</code>"
   ]
  },
  {
   "cell_type": "code",
   "execution_count": 3,
   "id": "2c8affac",
   "metadata": {},
   "outputs": [],
   "source": [
    "\n",
    "df = pd.read_csv('./Data/simple_linear_regression_data.csv')\n",
    "X = df.iloc[:, 1].values.reshape(-1, 1)\n",
    "y = df.iloc[:, 0].values\n",
    "X_train, X_test, y_train, y_test = train_test_split(X, y, test_size=0.2, random_state=42)"
   ]
  },
  {
   "cell_type": "code",
   "execution_count": 4,
   "id": "16a7f9b4",
   "metadata": {},
   "outputs": [
    {
     "data": {
      "text/plain": [
       "array([[3.27226494],\n",
       "       [3.14764285],\n",
       "       [2.39991033],\n",
       "       [3.62536085],\n",
       "       [4.26924163],\n",
       "       [3.39688702],\n",
       "       [5.97241015],\n",
       "       [3.52150911],\n",
       "       [9.42028788],\n",
       "       [8.7764071 ],\n",
       "       [9.66953206]])"
      ]
     },
     "execution_count": 4,
     "metadata": {},
     "output_type": "execute_result"
    }
   ],
   "source": [
    "\n",
    "class S_LR():\n",
    "  def __init__(self):\n",
    "    self.m = None\n",
    "    self.b = None\n",
    "  def fit(self,X_train,y_train):\n",
    "    num = 0\n",
    "    den = 0\n",
    "    for i in range(X_train.shape[0]):\n",
    "\n",
    "      num += (((X_train[i] - X_train.mean())*(y_train[i] - y_train.mean())))\n",
    "      den += (((X_train[i] - X_train.mean())*(X_train[i] - X_train.mean())))\n",
    "    \n",
    "      self.m = num/den\n",
    "      self.b = y_train.mean() - self.m * X_train.mean()\n",
    "  def predict(self,X_test):\n",
    "    return self.m * X_test + self.b\n",
    "  \n",
    "lr = S_LR()\n",
    "lr.fit(X_train, y_train)\n",
    "lr.predict(X_test)"
   ]
  },
  {
   "cell_type": "code",
   "execution_count": 5,
   "id": "f327e4d9",
   "metadata": {},
   "outputs": [
    {
     "data": {
      "text/plain": [
       "(2.0770347788051216, -10.602327384584253)"
      ]
     },
     "execution_count": 5,
     "metadata": {},
     "output_type": "execute_result"
    }
   ],
   "source": [
    "lr.m.item(),lr.b.item()"
   ]
  },
  {
   "cell_type": "code",
   "execution_count": 6,
   "id": "46583e9e",
   "metadata": {},
   "outputs": [
    {
     "data": {
      "text/plain": [
       "array([3.27226494, 3.14764285, 2.39991033, 3.62536085, 4.26924163,\n",
       "       3.39688702, 5.97241015, 3.52150911, 9.42028788, 8.7764071 ,\n",
       "       9.66953206])"
      ]
     },
     "execution_count": 6,
     "metadata": {},
     "output_type": "execute_result"
    }
   ],
   "source": [
    "from sklearn.linear_model import LinearRegression\n",
    "sk = LinearRegression()\n",
    "sk.fit(X_train, y_train)\n",
    "sk.predict(X_test)"
   ]
  },
  {
   "cell_type": "code",
   "execution_count": 7,
   "id": "209c9745",
   "metadata": {},
   "outputs": [
    {
     "data": {
      "text/plain": [
       "(2.0770347788051198, -10.602327384584239)"
      ]
     },
     "execution_count": 7,
     "metadata": {},
     "output_type": "execute_result"
    }
   ],
   "source": [
    "sk.coef_.item(), sk.intercept_.item()"
   ]
  },
  {
   "cell_type": "markdown",
   "id": "95470226",
   "metadata": {},
   "source": [
    "<code>Multiple Linear Regression Implementation</code>"
   ]
  },
  {
   "cell_type": "code",
   "execution_count": 8,
   "id": "c5b2dcae",
   "metadata": {},
   "outputs": [],
   "source": [
    "df = pd.read_csv(\"./Data/multiple_linear_regression_data.csv\")\n",
    "X = df.iloc[:,:-1].values\n",
    "y = df.iloc[:,-1].values\n",
    "X_train,X_test,y_train,y_test = train_test_split(X,y,test_size=2,random_state=42)"
   ]
  },
  {
   "cell_type": "code",
   "execution_count": 9,
   "id": "df381def",
   "metadata": {},
   "outputs": [
    {
     "data": {
      "text/plain": [
       "array([10.33921328,  8.29641491])"
      ]
     },
     "execution_count": 9,
     "metadata": {},
     "output_type": "execute_result"
    }
   ],
   "source": [
    "class M_LR():\n",
    "  def __init__(self):\n",
    "    self.coef_=None\n",
    "    self.intercept_=None\n",
    "  def fit(self,X_train,y_train):\n",
    "    X_train=np.insert(X_train,0,1,axis=1)\n",
    "    bitas = np.linalg.inv(np.dot(X_train.T,X_train)).dot(X_train.T).dot(y_train)\n",
    "    self.intercept_ = bitas[0]\n",
    "    self.coef_ = bitas[1:]\n",
    "  def predict(self,X_test):\n",
    "    y_pred = np.dot(X_test,self.coef_) + self.intercept_\n",
    "    return y_pred\n",
    "  \n",
    "lr = M_LR()\n",
    "lr.fit(X_train,y_train)\n",
    "lr.predict(X_test)"
   ]
  },
  {
   "cell_type": "code",
   "execution_count": 10,
   "id": "6ac17950",
   "metadata": {},
   "outputs": [
    {
     "data": {
      "text/plain": [
       "(array([0.1350936 , 0.20601037, 0.03654884]), np.float64(2.870113695416464))"
      ]
     },
     "execution_count": 10,
     "metadata": {},
     "output_type": "execute_result"
    }
   ],
   "source": [
    "lr.coef_, lr.intercept_"
   ]
  },
  {
   "cell_type": "code",
   "execution_count": 11,
   "id": "770e43a5",
   "metadata": {},
   "outputs": [
    {
     "data": {
      "text/plain": [
       "array([10.33921328,  8.29641491])"
      ]
     },
     "execution_count": 11,
     "metadata": {},
     "output_type": "execute_result"
    }
   ],
   "source": [
    "sk = LinearRegression()\n",
    "sk.fit(X_train, y_train)\n",
    "sk.predict(X_test)"
   ]
  },
  {
   "cell_type": "code",
   "execution_count": 12,
   "id": "5d35ee89",
   "metadata": {},
   "outputs": [
    {
     "data": {
      "text/plain": [
       "(array([0.1350936 , 0.20601037, 0.03654884]), np.float64(2.870113695416321))"
      ]
     },
     "execution_count": 12,
     "metadata": {},
     "output_type": "execute_result"
    }
   ],
   "source": [
    "sk.coef_, sk.intercept_"
   ]
  },
  {
   "cell_type": "markdown",
   "id": "bf8c4b17",
   "metadata": {},
   "source": [
    "<code>Polynomial Linear Regression</code>\n",
    "<pre>It is use when our data is not linear it take degree as a parameter and convert our data base on degree</pre>"
   ]
  },
  {
   "cell_type": "code",
   "execution_count": 18,
   "id": "1e9f3d86",
   "metadata": {},
   "outputs": [
    {
     "data": {
      "text/html": [
       "<div>\n",
       "<style scoped>\n",
       "    .dataframe tbody tr th:only-of-type {\n",
       "        vertical-align: middle;\n",
       "    }\n",
       "\n",
       "    .dataframe tbody tr th {\n",
       "        vertical-align: top;\n",
       "    }\n",
       "\n",
       "    .dataframe thead th {\n",
       "        text-align: right;\n",
       "    }\n",
       "</style>\n",
       "<table border=\"1\" class=\"dataframe\">\n",
       "  <thead>\n",
       "    <tr style=\"text-align: right;\">\n",
       "      <th></th>\n",
       "      <th>1</th>\n",
       "      <th>x0</th>\n",
       "      <th>x1</th>\n",
       "      <th>x2</th>\n",
       "      <th>x0^2</th>\n",
       "      <th>x0 x1</th>\n",
       "      <th>x0 x2</th>\n",
       "      <th>x1^2</th>\n",
       "      <th>x1 x2</th>\n",
       "      <th>x2^2</th>\n",
       "    </tr>\n",
       "  </thead>\n",
       "  <tbody>\n",
       "    <tr>\n",
       "      <th>0</th>\n",
       "      <td>1.0</td>\n",
       "      <td>22.85</td>\n",
       "      <td>6.76</td>\n",
       "      <td>86.90</td>\n",
       "      <td>522.1225</td>\n",
       "      <td>154.4660</td>\n",
       "      <td>1985.6650</td>\n",
       "      <td>45.6976</td>\n",
       "      <td>587.4440</td>\n",
       "      <td>7551.6100</td>\n",
       "    </tr>\n",
       "    <tr>\n",
       "      <th>1</th>\n",
       "      <td>1.0</td>\n",
       "      <td>12.17</td>\n",
       "      <td>8.62</td>\n",
       "      <td>92.58</td>\n",
       "      <td>148.1089</td>\n",
       "      <td>104.9054</td>\n",
       "      <td>1126.6986</td>\n",
       "      <td>74.3044</td>\n",
       "      <td>798.0396</td>\n",
       "      <td>8571.0564</td>\n",
       "    </tr>\n",
       "    <tr>\n",
       "      <th>2</th>\n",
       "      <td>1.0</td>\n",
       "      <td>20.43</td>\n",
       "      <td>8.91</td>\n",
       "      <td>93.80</td>\n",
       "      <td>417.3849</td>\n",
       "      <td>182.0313</td>\n",
       "      <td>1916.3340</td>\n",
       "      <td>79.3881</td>\n",
       "      <td>835.7580</td>\n",
       "      <td>8798.4400</td>\n",
       "    </tr>\n",
       "    <tr>\n",
       "      <th>3</th>\n",
       "      <td>1.0</td>\n",
       "      <td>8.41</td>\n",
       "      <td>5.90</td>\n",
       "      <td>90.31</td>\n",
       "      <td>70.7281</td>\n",
       "      <td>49.6190</td>\n",
       "      <td>759.5071</td>\n",
       "      <td>34.8100</td>\n",
       "      <td>532.8290</td>\n",
       "      <td>8155.8961</td>\n",
       "    </tr>\n",
       "    <tr>\n",
       "      <th>4</th>\n",
       "      <td>1.0</td>\n",
       "      <td>10.62</td>\n",
       "      <td>7.99</td>\n",
       "      <td>97.66</td>\n",
       "      <td>112.7844</td>\n",
       "      <td>84.8538</td>\n",
       "      <td>1037.1492</td>\n",
       "      <td>63.8401</td>\n",
       "      <td>780.3034</td>\n",
       "      <td>9537.4756</td>\n",
       "    </tr>\n",
       "    <tr>\n",
       "      <th>...</th>\n",
       "      <td>...</td>\n",
       "      <td>...</td>\n",
       "      <td>...</td>\n",
       "      <td>...</td>\n",
       "      <td>...</td>\n",
       "      <td>...</td>\n",
       "      <td>...</td>\n",
       "      <td>...</td>\n",
       "      <td>...</td>\n",
       "      <td>...</td>\n",
       "    </tr>\n",
       "    <tr>\n",
       "      <th>143</th>\n",
       "      <td>1.0</td>\n",
       "      <td>8.97</td>\n",
       "      <td>7.49</td>\n",
       "      <td>60.73</td>\n",
       "      <td>80.4609</td>\n",
       "      <td>67.1853</td>\n",
       "      <td>544.7481</td>\n",
       "      <td>56.1001</td>\n",
       "      <td>454.8677</td>\n",
       "      <td>3688.1329</td>\n",
       "    </tr>\n",
       "    <tr>\n",
       "      <th>144</th>\n",
       "      <td>1.0</td>\n",
       "      <td>13.21</td>\n",
       "      <td>8.78</td>\n",
       "      <td>75.57</td>\n",
       "      <td>174.5041</td>\n",
       "      <td>115.9838</td>\n",
       "      <td>998.2797</td>\n",
       "      <td>77.0884</td>\n",
       "      <td>663.5046</td>\n",
       "      <td>5710.8249</td>\n",
       "    </tr>\n",
       "    <tr>\n",
       "      <th>145</th>\n",
       "      <td>1.0</td>\n",
       "      <td>8.64</td>\n",
       "      <td>5.82</td>\n",
       "      <td>93.44</td>\n",
       "      <td>74.6496</td>\n",
       "      <td>50.2848</td>\n",
       "      <td>807.3216</td>\n",
       "      <td>33.8724</td>\n",
       "      <td>543.8208</td>\n",
       "      <td>8731.0336</td>\n",
       "    </tr>\n",
       "    <tr>\n",
       "      <th>146</th>\n",
       "      <td>1.0</td>\n",
       "      <td>20.22</td>\n",
       "      <td>8.70</td>\n",
       "      <td>74.88</td>\n",
       "      <td>408.8484</td>\n",
       "      <td>175.9140</td>\n",
       "      <td>1514.0736</td>\n",
       "      <td>75.6900</td>\n",
       "      <td>651.4560</td>\n",
       "      <td>5607.0144</td>\n",
       "    </tr>\n",
       "    <tr>\n",
       "      <th>147</th>\n",
       "      <td>1.0</td>\n",
       "      <td>11.29</td>\n",
       "      <td>8.48</td>\n",
       "      <td>80.21</td>\n",
       "      <td>127.4641</td>\n",
       "      <td>95.7392</td>\n",
       "      <td>905.5709</td>\n",
       "      <td>71.9104</td>\n",
       "      <td>680.1808</td>\n",
       "      <td>6433.6441</td>\n",
       "    </tr>\n",
       "  </tbody>\n",
       "</table>\n",
       "<p>148 rows × 10 columns</p>\n",
       "</div>"
      ],
      "text/plain": [
       "       1     x0    x1     x2      x0^2     x0 x1      x0 x2     x1^2  \\\n",
       "0    1.0  22.85  6.76  86.90  522.1225  154.4660  1985.6650  45.6976   \n",
       "1    1.0  12.17  8.62  92.58  148.1089  104.9054  1126.6986  74.3044   \n",
       "2    1.0  20.43  8.91  93.80  417.3849  182.0313  1916.3340  79.3881   \n",
       "3    1.0   8.41  5.90  90.31   70.7281   49.6190   759.5071  34.8100   \n",
       "4    1.0  10.62  7.99  97.66  112.7844   84.8538  1037.1492  63.8401   \n",
       "..   ...    ...   ...    ...       ...       ...        ...      ...   \n",
       "143  1.0   8.97  7.49  60.73   80.4609   67.1853   544.7481  56.1001   \n",
       "144  1.0  13.21  8.78  75.57  174.5041  115.9838   998.2797  77.0884   \n",
       "145  1.0   8.64  5.82  93.44   74.6496   50.2848   807.3216  33.8724   \n",
       "146  1.0  20.22  8.70  74.88  408.8484  175.9140  1514.0736  75.6900   \n",
       "147  1.0  11.29  8.48  80.21  127.4641   95.7392   905.5709  71.9104   \n",
       "\n",
       "        x1 x2       x2^2  \n",
       "0    587.4440  7551.6100  \n",
       "1    798.0396  8571.0564  \n",
       "2    835.7580  8798.4400  \n",
       "3    532.8290  8155.8961  \n",
       "4    780.3034  9537.4756  \n",
       "..        ...        ...  \n",
       "143  454.8677  3688.1329  \n",
       "144  663.5046  5710.8249  \n",
       "145  543.8208  8731.0336  \n",
       "146  651.4560  5607.0144  \n",
       "147  680.1808  6433.6441  \n",
       "\n",
       "[148 rows x 10 columns]"
      ]
     },
     "execution_count": 18,
     "metadata": {},
     "output_type": "execute_result"
    }
   ],
   "source": [
    "from sklearn.preprocessing import PolynomialFeatures\n",
    "poly = PolynomialFeatures(degree=2)\n",
    "X_poly = poly.fit_transform(X_train)\n",
    "pd.DataFrame(X_poly, columns=poly.get_feature_names_out())"
   ]
  },
  {
   "cell_type": "code",
   "execution_count": null,
   "id": "338f7b12",
   "metadata": {},
   "outputs": [],
   "source": []
  }
 ],
 "metadata": {
  "kernelspec": {
   "display_name": "Python 3",
   "language": "python",
   "name": "python3"
  },
  "language_info": {
   "codemirror_mode": {
    "name": "ipython",
    "version": 3
   },
   "file_extension": ".py",
   "mimetype": "text/x-python",
   "name": "python",
   "nbconvert_exporter": "python",
   "pygments_lexer": "ipython3",
   "version": "3.13.1"
  }
 },
 "nbformat": 4,
 "nbformat_minor": 5
}
