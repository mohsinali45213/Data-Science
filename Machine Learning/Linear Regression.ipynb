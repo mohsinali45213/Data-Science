{
 "cells": [
  {
   "cell_type": "code",
   "execution_count": 13,
   "id": "518ad65c",
   "metadata": {},
   "outputs": [],
   "source": [
    "import pandas as pd\n",
    "import numpy as np\n",
    "from sklearn.model_selection import train_test_split"
   ]
  },
  {
   "cell_type": "markdown",
   "id": "39111310",
   "metadata": {},
   "source": [
    "<code>Simplest Linear Regression Implementation</code>"
   ]
  },
  {
   "cell_type": "code",
   "execution_count": 44,
   "id": "2c8affac",
   "metadata": {},
   "outputs": [],
   "source": [
    "\n",
    "df = pd.read_csv('./Data/simple_linear_regression_data.csv')\n",
    "X = df.iloc[:, 1].values.reshape(-1, 1)\n",
    "y = df.iloc[:, 0].values\n",
    "X_train, X_test, y_train, y_test = train_test_split(X, y, test_size=0.2, random_state=42)"
   ]
  },
  {
   "cell_type": "code",
   "execution_count": null,
   "id": "16a7f9b4",
   "metadata": {},
   "outputs": [
    {
     "data": {
      "text/plain": [
       "array([3.27226494, 3.14764285, 2.39991033, 3.62536085, 4.26924163,\n",
       "       3.39688702, 5.97241015, 3.52150911, 9.42028788, 8.7764071 ,\n",
       "       9.66953206])"
      ]
     },
     "execution_count": 37,
     "metadata": {},
     "output_type": "execute_result"
    }
   ],
   "source": [
    "\n",
    "class S_LR():\n",
    "  def __init__(self):\n",
    "    self.m = None\n",
    "    self.b = None\n",
    "  def fit(self,X_train,y_train):\n",
    "    num = 0\n",
    "    den = 0\n",
    "    for i in range(X_train.shape[0]):\n",
    "\n",
    "      num += (((X_train[i] - X_train.mean())*(y_train[i] - y_train.mean())))\n",
    "      den += (((X_train[i] - X_train.mean())*(X_train[i] - X_train.mean())))\n",
    "    \n",
    "      self.m = num/den\n",
    "      self.b = y_train.mean() - self.m * X_train.mean()\n",
    "  def predict(self,X_test):\n",
    "    return self.m * X_test + self.b\n",
    "  \n",
    "lr = S_LR()\n",
    "lr.fit(X_train, y_train)\n",
    "lr.predict(X_test)"
   ]
  },
  {
   "cell_type": "code",
   "execution_count": 16,
   "id": "f327e4d9",
   "metadata": {},
   "outputs": [
    {
     "data": {
      "text/plain": [
       "(2.0770347788051216, -10.602327384584253)"
      ]
     },
     "execution_count": 16,
     "metadata": {},
     "output_type": "execute_result"
    }
   ],
   "source": [
    "lr.m.item(),lr.b.item()"
   ]
  },
  {
   "cell_type": "code",
   "execution_count": 17,
   "id": "46583e9e",
   "metadata": {},
   "outputs": [
    {
     "data": {
      "text/plain": [
       "array([3.27226494, 3.14764285, 2.39991033, 3.62536085, 4.26924163,\n",
       "       3.39688702, 5.97241015, 3.52150911, 9.42028788, 8.7764071 ,\n",
       "       9.66953206])"
      ]
     },
     "execution_count": 17,
     "metadata": {},
     "output_type": "execute_result"
    }
   ],
   "source": [
    "from sklearn.linear_model import LinearRegression\n",
    "sk = LinearRegression()\n",
    "sk.fit(X_train, y_train)\n",
    "sk.predict(X_test)"
   ]
  },
  {
   "cell_type": "code",
   "execution_count": 18,
   "id": "209c9745",
   "metadata": {},
   "outputs": [
    {
     "data": {
      "text/plain": [
       "(2.0770347788051198, -10.602327384584239)"
      ]
     },
     "execution_count": 18,
     "metadata": {},
     "output_type": "execute_result"
    }
   ],
   "source": [
    "sk.coef_.item(), sk.intercept_.item()"
   ]
  },
  {
   "cell_type": "markdown",
   "id": "95470226",
   "metadata": {},
   "source": [
    "<code>Multiple Linear Regression Implementation</code>"
   ]
  },
  {
   "cell_type": "code",
   "execution_count": 70,
   "id": "c5b2dcae",
   "metadata": {},
   "outputs": [],
   "source": [
    "df = pd.read_csv(\"./Data/multiple_linear_regression_data.csv\")\n",
    "X = df.iloc[:,:-1].values\n",
    "y = df.iloc[:,-1].values\n",
    "X_train,X_test,y_train,y_test = train_test_split(X,y,test_size=2,random_state=42)"
   ]
  },
  {
   "cell_type": "code",
   "execution_count": 74,
   "id": "df381def",
   "metadata": {},
   "outputs": [
    {
     "data": {
      "text/plain": [
       "array([10.33921328,  8.29641491])"
      ]
     },
     "execution_count": 74,
     "metadata": {},
     "output_type": "execute_result"
    }
   ],
   "source": [
    "class M_LR():\n",
    "  def __init__(self):\n",
    "    self.coef_=None\n",
    "    self.intercept_=None\n",
    "  def fit(self,X_train,y_train):\n",
    "    X_train=np.insert(X_train,0,1,axis=1)\n",
    "    bitas = np.linalg.inv(np.dot(X_train.T,X_train)).dot(X_train.T).dot(y_train)\n",
    "    self.intercept_ = bitas[0]\n",
    "    self.coef_ = bitas[1:]\n",
    "  def predict(self,X_test):\n",
    "    y_pred = np.dot(X_test,self.coef_) + self.intercept_\n",
    "    return y_pred\n",
    "  \n",
    "lr = M_LR()\n",
    "lr.fit(X_train,y_train)\n",
    "lr.predict(X_test)"
   ]
  },
  {
   "cell_type": "code",
   "execution_count": 75,
   "id": "6ac17950",
   "metadata": {},
   "outputs": [
    {
     "data": {
      "text/plain": [
       "(array([0.1350936 , 0.20601037, 0.03654884]), np.float64(2.870113695416464))"
      ]
     },
     "execution_count": 75,
     "metadata": {},
     "output_type": "execute_result"
    }
   ],
   "source": [
    "lr.coef_, lr.intercept_"
   ]
  },
  {
   "cell_type": "code",
   "execution_count": 76,
   "id": "770e43a5",
   "metadata": {},
   "outputs": [
    {
     "data": {
      "text/plain": [
       "array([10.33921328,  8.29641491])"
      ]
     },
     "execution_count": 76,
     "metadata": {},
     "output_type": "execute_result"
    }
   ],
   "source": [
    "sk = LinearRegression()\n",
    "sk.fit(X_train, y_train)\n",
    "sk.predict(X_test)"
   ]
  },
  {
   "cell_type": "code",
   "execution_count": 77,
   "id": "5d35ee89",
   "metadata": {},
   "outputs": [
    {
     "data": {
      "text/plain": [
       "(array([0.1350936 , 0.20601037, 0.03654884]), np.float64(2.870113695416321))"
      ]
     },
     "execution_count": 77,
     "metadata": {},
     "output_type": "execute_result"
    }
   ],
   "source": [
    "sk.coef_, sk.intercept_"
   ]
  }
 ],
 "metadata": {
  "kernelspec": {
   "display_name": "Python 3",
   "language": "python",
   "name": "python3"
  },
  "language_info": {
   "codemirror_mode": {
    "name": "ipython",
    "version": 3
   },
   "file_extension": ".py",
   "mimetype": "text/x-python",
   "name": "python",
   "nbconvert_exporter": "python",
   "pygments_lexer": "ipython3",
   "version": "3.13.1"
  }
 },
 "nbformat": 4,
 "nbformat_minor": 5
}
