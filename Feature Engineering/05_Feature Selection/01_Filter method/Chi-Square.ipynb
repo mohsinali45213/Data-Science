{
 "cells": [
  {
   "cell_type": "markdown",
   "id": "119e9e6d-6a29-4b61-9083-6949833bd429",
   "metadata": {},
   "source": [
    "<pre>Chi-square work on only categorical colummns</pre>"
   ]
  },
  {
   "cell_type": "code",
   "execution_count": 1,
   "id": "7551f11f-328f-4e1b-a6c7-de860c10a1e8",
   "metadata": {},
   "outputs": [],
   "source": [
    "import pandas as pd\n",
    "import seaborn as sns"
   ]
  },
  {
   "cell_type": "code",
   "execution_count": 2,
   "id": "886e4d8c-0b50-4857-a614-a2cc131d070d",
   "metadata": {},
   "outputs": [
    {
     "data": {
      "text/html": [
       "<div>\n",
       "<style scoped>\n",
       "    .dataframe tbody tr th:only-of-type {\n",
       "        vertical-align: middle;\n",
       "    }\n",
       "\n",
       "    .dataframe tbody tr th {\n",
       "        vertical-align: top;\n",
       "    }\n",
       "\n",
       "    .dataframe thead th {\n",
       "        text-align: right;\n",
       "    }\n",
       "</style>\n",
       "<table border=\"1\" class=\"dataframe\">\n",
       "  <thead>\n",
       "    <tr style=\"text-align: right;\">\n",
       "      <th></th>\n",
       "      <th>pclass</th>\n",
       "      <th>sex</th>\n",
       "      <th>sibsp</th>\n",
       "      <th>parch</th>\n",
       "      <th>embarked</th>\n",
       "      <th>survived</th>\n",
       "    </tr>\n",
       "  </thead>\n",
       "  <tbody>\n",
       "    <tr>\n",
       "      <th>0</th>\n",
       "      <td>3</td>\n",
       "      <td>male</td>\n",
       "      <td>1</td>\n",
       "      <td>0</td>\n",
       "      <td>S</td>\n",
       "      <td>0</td>\n",
       "    </tr>\n",
       "    <tr>\n",
       "      <th>1</th>\n",
       "      <td>1</td>\n",
       "      <td>female</td>\n",
       "      <td>1</td>\n",
       "      <td>0</td>\n",
       "      <td>C</td>\n",
       "      <td>1</td>\n",
       "    </tr>\n",
       "    <tr>\n",
       "      <th>2</th>\n",
       "      <td>3</td>\n",
       "      <td>female</td>\n",
       "      <td>0</td>\n",
       "      <td>0</td>\n",
       "      <td>S</td>\n",
       "      <td>1</td>\n",
       "    </tr>\n",
       "    <tr>\n",
       "      <th>3</th>\n",
       "      <td>1</td>\n",
       "      <td>female</td>\n",
       "      <td>1</td>\n",
       "      <td>0</td>\n",
       "      <td>S</td>\n",
       "      <td>1</td>\n",
       "    </tr>\n",
       "    <tr>\n",
       "      <th>4</th>\n",
       "      <td>3</td>\n",
       "      <td>male</td>\n",
       "      <td>0</td>\n",
       "      <td>0</td>\n",
       "      <td>S</td>\n",
       "      <td>0</td>\n",
       "    </tr>\n",
       "  </tbody>\n",
       "</table>\n",
       "</div>"
      ],
      "text/plain": [
       "   pclass     sex  sibsp  parch embarked  survived\n",
       "0       3    male      1      0        S         0\n",
       "1       1  female      1      0        C         1\n",
       "2       3  female      0      0        S         1\n",
       "3       1  female      1      0        S         1\n",
       "4       3    male      0      0        S         0"
      ]
     },
     "execution_count": 2,
     "metadata": {},
     "output_type": "execute_result"
    }
   ],
   "source": [
    "sns_data = sns.load_dataset(\"titanic\")\n",
    "df = sns_data[['pclass','sex','sibsp','parch','embarked','survived']]\n",
    "df.head()"
   ]
  },
  {
   "cell_type": "code",
   "execution_count": 3,
   "id": "42ff4cfc-53a0-400e-89c8-2e273c9d4bf1",
   "metadata": {},
   "outputs": [
    {
     "data": {
      "text/html": [
       "<div>\n",
       "<style scoped>\n",
       "    .dataframe tbody tr th:only-of-type {\n",
       "        vertical-align: middle;\n",
       "    }\n",
       "\n",
       "    .dataframe tbody tr th {\n",
       "        vertical-align: top;\n",
       "    }\n",
       "\n",
       "    .dataframe thead th {\n",
       "        text-align: right;\n",
       "    }\n",
       "</style>\n",
       "<table border=\"1\" class=\"dataframe\">\n",
       "  <thead>\n",
       "    <tr style=\"text-align: right;\">\n",
       "      <th>sex</th>\n",
       "      <th>female</th>\n",
       "      <th>male</th>\n",
       "      <th>All</th>\n",
       "    </tr>\n",
       "    <tr>\n",
       "      <th>survived</th>\n",
       "      <th></th>\n",
       "      <th></th>\n",
       "      <th></th>\n",
       "    </tr>\n",
       "  </thead>\n",
       "  <tbody>\n",
       "    <tr>\n",
       "      <th>0</th>\n",
       "      <td>81</td>\n",
       "      <td>468</td>\n",
       "      <td>549</td>\n",
       "    </tr>\n",
       "    <tr>\n",
       "      <th>1</th>\n",
       "      <td>233</td>\n",
       "      <td>109</td>\n",
       "      <td>342</td>\n",
       "    </tr>\n",
       "    <tr>\n",
       "      <th>All</th>\n",
       "      <td>314</td>\n",
       "      <td>577</td>\n",
       "      <td>891</td>\n",
       "    </tr>\n",
       "  </tbody>\n",
       "</table>\n",
       "</div>"
      ],
      "text/plain": [
       "sex       female  male  All\n",
       "survived                   \n",
       "0             81   468  549\n",
       "1            233   109  342\n",
       "All          314   577  891"
      ]
     },
     "execution_count": 3,
     "metadata": {},
     "output_type": "execute_result"
    }
   ],
   "source": [
    "# Orignal (observation) Data\n",
    "ct = pd.crosstab(df[\"survived\"],df[\"sex\"],margins=True)\n",
    "ct.head()"
   ]
  },
  {
   "cell_type": "code",
   "execution_count": 4,
   "id": "76aefc7f-a567-483f-a1fe-7e7b0a5b733c",
   "metadata": {},
   "outputs": [],
   "source": [
    "# Exprected data \n",
    "# for Ci = All(i) * All(j) / total\n",
    "# for 81 = 549*314/891 = 193"
   ]
  },
  {
   "cell_type": "code",
   "execution_count": 5,
   "id": "c229aa30-8e8f-41b0-b475-747f93c67c70",
   "metadata": {},
   "outputs": [
    {
     "data": {
      "text/plain": [
       "Chi2ContingencyResult(statistic=np.float64(263.05057407065567), pvalue=np.float64(1.0036732821369115e-55), dof=4, expected_freq=array([[193.47474747, 355.52525253, 549.        ],\n",
       "       [120.52525253, 221.47474747, 342.        ],\n",
       "       [314.        , 577.        , 891.        ]]))"
      ]
     },
     "execution_count": 5,
     "metadata": {},
     "output_type": "execute_result"
    }
   ],
   "source": [
    "from scipy.stats import chi2_contingency\n",
    "chi2_contingency(ct)"
   ]
  },
  {
   "cell_type": "code",
   "execution_count": 7,
   "id": "805cb733-3758-4cd6-ad9e-1cf64ff03b34",
   "metadata": {},
   "outputs": [],
   "source": [
    "score = []\n",
    "\n",
    "for feature in df.columns[:-1]:\n",
    "    \n",
    "    # create contingency table\n",
    "    ct = pd.crosstab(df['survived'], df[feature])\n",
    "    \n",
    "    # chi_test\n",
    "    p_value = chi2_contingency(ct)[1]\n",
    "    score.append(p_value)"
   ]
  },
  {
   "cell_type": "code",
   "execution_count": 12,
   "id": "67408b7a-b03c-4165-b6c5-6e69f52d555c",
   "metadata": {},
   "outputs": [
    {
     "data": {
      "text/plain": [
       "<Axes: >"
      ]
     },
     "execution_count": 12,
     "metadata": {},
     "output_type": "execute_result"
    },
    {
     "data": {
      "image/png": "[encoded data removed]",
      "text/plain": [
       "<Figure size 640x480 with 1 Axes>"
      ]
     },
     "metadata": {},
     "output_type": "display_data"
    }
   ],
   "source": [
    "pd.Series(score, index=df.columns[:-1]).sort_values(ascending=True).plot(kind='bar')"
   ]
  },
  {
   "cell_type": "code",
   "execution_count": 14,
   "id": "e90e0804-9fb6-4ad9-9f70-a3e38031a8ff",
   "metadata": {},
   "outputs": [
    {
     "data": {
      "image/png": "[encoded data removed]",
      "text/plain": [
       "<Figure size 640x480 with 1 Axes>"
      ]
     },
     "metadata": {},
     "output_type": "display_data"
    }
   ],
   "source": [
    "from sklearn.preprocessing import LabelEncoder\n",
    "from sklearn.feature_selection import chi2\n",
    "import matplotlib.pyplot as plt\n",
    "\n",
    "# assuming titanic is your DataFrame and 'Survived' is the target column\n",
    "\n",
    "# Encode categorical variables\n",
    "le = LabelEncoder()\n",
    "titanic_encoded = df.apply(le.fit_transform)\n",
    "\n",
    "X = titanic_encoded.drop('survived', axis=1)\n",
    "y = titanic_encoded['survived']\n",
    "\n",
    "# Calculate chi-squared stats\n",
    "chi_scores = chi2(X, y)\n",
    "\n",
    "# chi_scores[1] are the p-values of each feature.\n",
    "p_values = pd.Series(chi_scores[1], index = X.columns)\n",
    "p_values.sort_values(inplace = True)\n",
    "\n",
    "# Plotting the p-values\n",
    "p_values.plot.bar()\n",
    "\n",
    "plt.title('Chi-square test - P-values')\n",
    "plt.xlabel('Feature')\n",
    "plt.ylabel('P-value')\n",
    "\n",
    "plt.show()"
   ]
  },
  {
   "cell_type": "code",
   "execution_count": null,
   "id": "12cfc548-f859-480d-b35e-ccdb07bedc2f",
   "metadata": {},
   "outputs": [],
   "source": []
  }
 ],
 "metadata": {
  "kernelspec": {
   "display_name": "Python 3 (ipykernel)",
   "language": "python",
   "name": "python3"
  },
  "language_info": {
   "codemirror_mode": {
    "name": "ipython",
    "version": 3
   },
   "file_extension": ".py",
   "mimetype": "text/x-python",
   "name": "python",
   "nbconvert_exporter": "python",
   "pygments_lexer": "ipython3",
   "version": "3.12.5"
  }
 },
 "nbformat": 4,
 "nbformat_minor": 5
}
